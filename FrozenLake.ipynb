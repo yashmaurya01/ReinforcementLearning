{
 "cells": [
  {
   "cell_type": "code",
   "execution_count": 16,
   "metadata": {},
   "outputs": [],
   "source": [
    "import numpy as np\n",
    "import gym\n",
    "import time\n",
    "import random\n",
    "from IPython.display import clear_output\n",
    "\n",
    "env = gym.make(\"FrozenLake-v0\")"
   ]
  },
  {
   "cell_type": "code",
   "execution_count": 17,
   "metadata": {},
   "outputs": [],
   "source": [
    "action_space_size = env.action_space.n\n",
    "state_space_size = env.observation_space.n\n",
    "\n",
    "q_table = np.zeros((state_space_size, action_space_size))\n",
    "# print(q_table)"
   ]
  },
  {
   "cell_type": "code",
   "execution_count": 18,
   "metadata": {},
   "outputs": [],
   "source": [
    "num_episodes = 10000\n",
    "max_steps_per_episode = 100\n",
    "\n",
    "learning_rate = 0.1\n",
    "discount_rate = 0.99\n",
    "\n",
    "exploration_rate = 1\n",
    "max_exploration_rate = 1\n",
    "min_exploration_rate = 0.01\n",
    "exploration_rate_decay = 0.001"
   ]
  },
  {
   "cell_type": "code",
   "execution_count": 19,
   "metadata": {},
   "outputs": [
    {
     "name": "stdout",
     "output_type": "stream",
     "text": [
      "***Average reward per thousand episodes***\n",
      "1000 :  0.04000000000000003\n",
      "2000 :  0.20700000000000016\n",
      "3000 :  0.3960000000000003\n",
      "4000 :  0.5270000000000004\n",
      "5000 :  0.6280000000000004\n",
      "6000 :  0.6610000000000005\n",
      "7000 :  0.6730000000000005\n",
      "8000 :  0.6900000000000005\n",
      "9000 :  0.6710000000000005\n",
      "10000 :  0.7010000000000005\n",
      "\n",
      "\n",
      "***Updated Q_table***\n",
      "\n",
      "[[0.56337349 0.52119527 0.51839106 0.52335388]\n",
      " [0.30862927 0.30997164 0.30847182 0.5090556 ]\n",
      " [0.43329805 0.44394232 0.42778782 0.49525366]\n",
      " [0.19091106 0.37497061 0.30391197 0.48594928]\n",
      " [0.59157088 0.39959898 0.28661191 0.32059878]\n",
      " [0.         0.         0.         0.        ]\n",
      " [0.21714407 0.171497   0.23460294 0.09926643]\n",
      " [0.         0.         0.         0.        ]\n",
      " [0.34871711 0.48292331 0.35441216 0.64359758]\n",
      " [0.35289443 0.65811994 0.34812483 0.46412192]\n",
      " [0.60264692 0.46680649 0.36150928 0.20461787]\n",
      " [0.         0.         0.         0.        ]\n",
      " [0.         0.         0.         0.        ]\n",
      " [0.53420834 0.36651127 0.78920025 0.5571229 ]\n",
      " [0.7303617  0.89861946 0.76312949 0.7435099 ]\n",
      " [0.         0.         0.         0.        ]]\n"
     ]
    }
   ],
   "source": [
    "reward_all_episodes = []\n",
    "\n",
    "for episode in range(num_episodes):\n",
    "    state = env.reset()\n",
    "\n",
    "    done = False\n",
    "    reward_current_episode = 0\n",
    "\n",
    "    for step in range(max_steps_per_episode):\n",
    "\n",
    "        exploration_rate_threshold = random.uniform(0,1)\n",
    "        if exploration_rate < exploration_rate_threshold:\n",
    "            action = np.argmax(q_table[state,:])\n",
    "        else:\n",
    "            action = env.action_space.sample()\n",
    "\n",
    "        new_state, reward, done, info = env.step(action)\n",
    "        \n",
    "        q_table[state,action] = q_table[state,action] * (1-learning_rate) + learning_rate * (reward + discount_rate * np.max(q_table[new_state,:]))\n",
    "        \n",
    "        state = new_state\n",
    "        reward_current_episode += reward\n",
    "\n",
    "        if done == True:\n",
    "            break\n",
    "\n",
    "    exploration_rate = min_exploration_rate + (max_exploration_rate - min_exploration_rate) * np.exp(-exploration_rate_decay*episode)\n",
    "\n",
    "    reward_all_episodes.append(reward_current_episode)\n",
    "\n",
    "reward_per_thousand_episodes = np.split(np.array(reward_all_episodes),num_episodes/1000)\n",
    "count = 1000\n",
    "print(\"***Average reward per thousand episodes***\")\n",
    "for r in reward_per_thousand_episodes:\n",
    "    print(count, \": \", str(sum(r/1000)))\n",
    "    count+=1000\n",
    "\n",
    "print(\"\\n\\n***Updated Q_table***\\n\")\n",
    "print(q_table)"
   ]
  },
  {
   "cell_type": "code",
   "execution_count": 23,
   "metadata": {},
   "outputs": [
    {
     "name": "stdout",
     "output_type": "stream",
     "text": [
      "  (Down)\n",
      "SFFF\n",
      "FHFH\n",
      "FFFH\n",
      "HFF\u001b[41mG\u001b[0m\n",
      "**** You reached the goal! ***\n"
     ]
    }
   ],
   "source": [
    "for episode in range(3):\n",
    "    state = env.reset()\n",
    "    done = False\n",
    "    print(\"****EPISODE \",episode+1,\"*******\\n\\n\\n\")\n",
    "    time.sleep(1)\n",
    "    \n",
    "    for step in range(max_steps_per_episode):\n",
    "        clear_output(wait=True)\n",
    "        env.render()\n",
    "        time.sleep(0.3)\n",
    "        \n",
    "        action = np.argmax(q_table[state,:])\n",
    "        new_state, reward, done, info = env.step(action)\n",
    "        \n",
    "#         print(info)\n",
    "        \n",
    "        if done:\n",
    "            clear_output(wait=True)\n",
    "            env.render()\n",
    "            if reward == 1:\n",
    "                print(\"**** You reached the goal! ***\")\n",
    "                time.sleep(3)\n",
    "            else:\n",
    "                print(\"**** You fell through a hole! ***\")\n",
    "                time.sleep(3)\n",
    "                \n",
    "            clear_output(wait=True)\n",
    "            break\n",
    "        \n",
    "        state = new_state\n",
    "        \n",
    "env.close()\n",
    "    "
   ]
  },
  {
   "cell_type": "code",
   "execution_count": null,
   "metadata": {},
   "outputs": [],
   "source": []
  }
 ],
 "metadata": {
  "kernelspec": {
   "display_name": "Python 3",
   "language": "python",
   "name": "python3"
  },
  "language_info": {
   "codemirror_mode": {
    "name": "ipython",
    "version": 3
   },
   "file_extension": ".py",
   "mimetype": "text/x-python",
   "name": "python",
   "nbconvert_exporter": "python",
   "pygments_lexer": "ipython3",
   "version": "3.6.9"
  }
 },
 "nbformat": 4,
 "nbformat_minor": 4
}
